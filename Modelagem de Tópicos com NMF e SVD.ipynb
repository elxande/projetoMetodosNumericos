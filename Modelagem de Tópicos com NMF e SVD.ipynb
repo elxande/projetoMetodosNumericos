{
 "cells": [
  {
   "cell_type": "markdown",
   "metadata": {},
   "source": [
    "# <center>__MÉTODOS NUMÉRICOS__</center>\n",
    "## <center>__PROJETO DA UNIDADE 2__</center>\n",
    "## <center>__Modelagem de Tópicos com NMF e SVD__</center>\n",
    "#### <center>__ALUNO: Alexandre dos Santos Oliveira__</center>"
   ]
  },
  {
   "cell_type": "markdown",
   "metadata": {},
   "source": [
    "<div class=\"alert alert-block alert-info\">\n",
    "1. INTRODUÇÃO\n",
    "</div>"
   ]
  },
  {
   "cell_type": "markdown",
   "metadata": {},
   "source": [
    "Nesse domínio, um tópico refere-se a uma coleção de termos frequentemente usados em combinação com documentos do mesmo tema. Portanto, os principais resultados da modelagem de tópicos são: uma lista de tópicos e a lista de documentos que estão correlacionados a cada tópico.\n",
    "\n",
    "A modelagem de tópicos tem várias aplicações práticas em PNL, como por exemplo:\n",
    "\n",
    "Decidindo o assunto da conversa para Chatbots.\n",
    "Detectar opiniões de usuários semelhantes para um determinado tópico.\n",
    "Inferir tópicos ocultos em um conjunto de documentos.\n",
    "Agrupando feedback do cliente."
   ]
  },
  {
   "cell_type": "markdown",
   "metadata": {},
   "source": [
    "<div class=\"alert alert-block alert-info\">\n",
    "2. DESCRIÇÃO DO PROBLEMA\n",
    "</div>"
   ]
  },
  {
   "cell_type": "markdown",
   "metadata": {},
   "source": [
    "A modelagem de tópicos é uma abordagem de aprendizagem não supervisionada para agrupamento de documentos com base nos tópicos de seu conteúdo. Criaremos um modelo usando uma técnica de modelagem de tópicos chamada Fatoração de Matriz Não Negativa (NMF) para inferir os principais temas existentes em um conjunto de dados de avaliações de hotéis, analisar o quão precisa é essa classificação em todos os documentos e prever o tópico de um novo documento com nosso modelo treinado."
   ]
  },
  {
   "cell_type": "markdown",
   "metadata": {},
   "source": [
    "<div class=\"alert alert-block alert-info\">\n",
    "3. MÉTODOS APLICADOS À SOLUÇÃO\n",
    "</div>"
   ]
  },
  {
   "cell_type": "markdown",
   "metadata": {},
   "source": [
    "Usaremos duas das principais abordagens da modelagem de tópicos, que foram faladas anteriormente, Decomposição de Valor Singular (SVD) e Fatoração de Matriz Não Negativa (NMF).\n",
    "TF-IDF (Frequência de Documento Inverso de Frequência de Tópico)\n",
    "SGD (Descida do Gradiente Estocástico)\n",
    "PyTorch\n",
    "Autograd"
   ]
  },
  {
   "cell_type": "markdown",
   "metadata": {},
   "source": [
    "<div class=\"alert alert-block alert-info\">\n",
    "4. IMPLEMENTAÇÃO\n",
    "</div>"
   ]
  },
  {
   "cell_type": "code",
   "execution_count": 125,
   "metadata": {},
   "outputs": [],
   "source": [
    "import numpy as np\n",
    "from sklearn.datasets import fetch_20newsgroups\n",
    "from sklearn import decomposition\n",
    "from scipy import linalg\n",
    "import matplotlib.pyplot as plt"
   ]
  },
  {
   "cell_type": "code",
   "execution_count": 127,
   "metadata": {},
   "outputs": [],
   "source": [
    "%matplotlib inline\n",
    "np.set_printoptions(suppress=True)"
   ]
  },
  {
   "cell_type": "markdown",
   "metadata": {},
   "source": [
    "Newsgroups é um conjunto de dados que consistem em grupos de discussão na Usenet e inclui 18.000 postagens de grupos de notícias com 20 tópicos.\n",
    "Para configurar os dados, iremos utilizar o 'Scikit Learn'."
   ]
  },
  {
   "cell_type": "code",
   "execution_count": 129,
   "metadata": {},
   "outputs": [],
   "source": [
    "categories = ['alt.atheism', 'talk.religion.misc', 'comp.graphics', 'sci.space']\n",
    "remove = ('headers', 'footers', 'quotes')\n",
    "newsgroups_train = fetch_20newsgroups(subset='train', categories=categories, remove=remove)\n",
    "newsgroups_test = fetch_20newsgroups(subset='test', categories=categories, remove=remove)"
   ]
  },
  {
   "cell_type": "code",
   "execution_count": 131,
   "metadata": {},
   "outputs": [
    {
     "data": {
      "text/plain": [
       "((2034,), (2034,))"
      ]
     },
     "execution_count": 131,
     "metadata": {},
     "output_type": "execute_result"
    }
   ],
   "source": [
    "newsgroups_train.filenames.shape, newsgroups_train.target.shape"
   ]
  },
  {
   "cell_type": "code",
   "execution_count": 133,
   "metadata": {},
   "outputs": [
    {
     "data": {
      "text/plain": [
       "array(['comp.graphics', 'talk.religion.misc', 'sci.space'], dtype='<U18')"
      ]
     },
     "execution_count": 133,
     "metadata": {},
     "output_type": "execute_result"
    }
   ],
   "source": [
    "np . array ( newsgroups_train . target_names )[ newsgroups_train . target [: 3 ]]"
   ]
  },
  {
   "cell_type": "code",
   "execution_count": 135,
   "metadata": {},
   "outputs": [],
   "source": [
    "from sklearn.feature_extraction.text  import  CountVectorizer ,  TfidfVectorizer"
   ]
  },
  {
   "cell_type": "markdown",
   "metadata": {},
   "source": [
    "Ajustando o conjunto de dados em uma variável e retirando as stop-words."
   ]
  },
  {
   "cell_type": "code",
   "execution_count": 137,
   "metadata": {},
   "outputs": [
    {
     "data": {
      "text/plain": [
       "(2034, 26576)"
      ]
     },
     "execution_count": 137,
     "metadata": {},
     "output_type": "execute_result"
    }
   ],
   "source": [
    "vectorizer = CountVectorizer(stop_words='english')\n",
    "vectors = vectorizer.fit_transform(newsgroups_train.data).todense() # (documents, vocab)\n",
    "vectors.shape #, vectors.nnz / vectors.shape[0], row_means.shape"
   ]
  },
  {
   "cell_type": "code",
   "execution_count": 139,
   "metadata": {},
   "outputs": [],
   "source": [
    "vocab = np.array(vectorizer.get_feature_names())"
   ]
  },
  {
   "cell_type": "code",
   "execution_count": 141,
   "metadata": {},
   "outputs": [
    {
     "data": {
      "text/plain": [
       "(26576,)"
      ]
     },
     "execution_count": 141,
     "metadata": {},
     "output_type": "execute_result"
    }
   ],
   "source": [
    "vocab.shape"
   ]
  },
  {
   "cell_type": "code",
   "execution_count": 143,
   "metadata": {},
   "outputs": [
    {
     "data": {
      "text/plain": [
       "array(['cleveland', 'clever', 'cleverer', 'cleverly', 'cli',\n",
       "       'cliberbuiten', 'clibstatus', 'clibsucces', 'cliche', 'click',\n",
       "       'clicking', 'clicks', 'client', 'clients', 'cliff', 'climate',\n",
       "       'climatic', 'climatologist', 'climbed', 'clime'], dtype='<U80')"
      ]
     },
     "execution_count": 143,
     "metadata": {},
     "output_type": "execute_result"
    }
   ],
   "source": [
    "## Visualizando\n",
    "vocab[6000:6020]"
   ]
  },
  {
   "cell_type": "markdown",
   "metadata": {},
   "source": [
    "Aplicando o conceito de SVD"
   ]
  },
  {
   "cell_type": "code",
   "execution_count": null,
   "metadata": {},
   "outputs": [],
   "source": [
    "## análise do tempo\n",
    "%time U, s, Vh = linalg.svd(vectors, full_matrices=False)"
   ]
  },
  {
   "cell_type": "code",
   "execution_count": null,
   "metadata": {},
   "outputs": [],
   "source": [
    "print(U.shape, s.shape, Vh.shape)"
   ]
  },
  {
   "cell_type": "code",
   "execution_count": null,
   "metadata": {},
   "outputs": [],
   "source": [
    "## Nossa função respónsavel por mostrar os tópicos modelados\n",
    "num_top_words=10\n",
    "\n",
    "def show_topics(a):\n",
    "    top_words = lambda t: [vocab[i] for i in np.argsort(t)[:-num_top_words-1:-1]]\n",
    "    topic_words = ([top_words(t) for t in a])\n",
    "    return [' '.join(t) for t in topic_words]"
   ]
  },
  {
   "cell_type": "code",
   "execution_count": null,
   "metadata": {},
   "outputs": [],
   "source": [
    "show_topics(Vh[:10])"
   ]
  },
  {
   "cell_type": "markdown",
   "metadata": {},
   "source": [
    "Aplicando o conceito de NMF"
   ]
  },
  {
   "cell_type": "code",
   "execution_count": 155,
   "metadata": {},
   "outputs": [],
   "source": [
    "m,n=vectors.shape\n",
    "d=5  # num topics"
   ]
  },
  {
   "cell_type": "code",
   "execution_count": 156,
   "metadata": {},
   "outputs": [
    {
     "name": "stderr",
     "output_type": "stream",
     "text": [
      "C:\\Users\\elxan\\anaconda3\\lib\\site-packages\\sklearn\\decomposition\\_nmf.py:312: FutureWarning: The 'init' value, when 'init=None' and n_components is less than n_samples and n_features, will be changed from 'nndsvd' to 'nndsvda' in 1.1 (renaming of 0.26).\n",
      "  warnings.warn((\"The 'init' value, when 'init=None' and \"\n"
     ]
    }
   ],
   "source": [
    "clf = decomposition.NMF(n_components=d, random_state=1)\n",
    "\n",
    "W1 = clf.fit_transform(vectors)\n",
    "H1 = clf.components_"
   ]
  },
  {
   "cell_type": "code",
   "execution_count": 157,
   "metadata": {},
   "outputs": [
    {
     "data": {
      "text/plain": [
       "['jpeg image gif file color images format quality version files',\n",
       " 'edu graphics pub mail 128 ray ftp send 3d com',\n",
       " 'space launch satellite nasa commercial satellites year market data earth',\n",
       " 'jesus god people matthew atheists does atheism said just believe',\n",
       " 'image data available software processing ftp edu analysis images display']"
      ]
     },
     "execution_count": 157,
     "metadata": {},
     "output_type": "execute_result"
    }
   ],
   "source": [
    "show_topics(H1)"
   ]
  },
  {
   "cell_type": "markdown",
   "metadata": {},
   "source": [
    "Aplicando TF-IDF"
   ]
  },
  {
   "cell_type": "code",
   "execution_count": 158,
   "metadata": {},
   "outputs": [],
   "source": [
    "vectorizer_tfidf = TfidfVectorizer(stop_words='english')\n",
    "vectors_tfidf = vectorizer_tfidf.fit_transform(newsgroups_train.data) # (documents, vocab)"
   ]
  },
  {
   "cell_type": "code",
   "execution_count": 159,
   "metadata": {},
   "outputs": [
    {
     "name": "stderr",
     "output_type": "stream",
     "text": [
      "C:\\Users\\elxan\\anaconda3\\lib\\site-packages\\sklearn\\decomposition\\_nmf.py:312: FutureWarning: The 'init' value, when 'init=None' and n_components is less than n_samples and n_features, will be changed from 'nndsvd' to 'nndsvda' in 1.1 (renaming of 0.26).\n",
      "  warnings.warn((\"The 'init' value, when 'init=None' and \"\n"
     ]
    }
   ],
   "source": [
    "W1 = clf.fit_transform(vectors_tfidf)\n",
    "H1 = clf.components_"
   ]
  },
  {
   "cell_type": "code",
   "execution_count": 160,
   "metadata": {},
   "outputs": [
    {
     "data": {
      "text/plain": [
       "['people don think just like objective say morality know moral',\n",
       " 'graphics thanks files image file program windows know format ftp',\n",
       " 'space nasa launch shuttle orbit moon lunar earth station data',\n",
       " 'ico bobbe tek beauchaine bronx manhattan sank queens vice blew',\n",
       " 'god jesus bible believe christian atheism does belief faith christians']"
      ]
     },
     "execution_count": 160,
     "metadata": {},
     "output_type": "execute_result"
    }
   ],
   "source": [
    "show_topics(H1)"
   ]
  },
  {
   "cell_type": "code",
   "execution_count": 161,
   "metadata": {},
   "outputs": [
    {
     "data": {
      "text/plain": [
       "[<matplotlib.lines.Line2D at 0x14790f585b0>]"
      ]
     },
     "execution_count": 161,
     "metadata": {},
     "output_type": "execute_result"
    },
    {
     "data": {
      "image/png": "[encoded data removed]",
      "text/plain": [
       "<Figure size 432x288 with 1 Axes>"
      ]
     },
     "metadata": {
      "needs_background": "light"
     },
     "output_type": "display_data"
    }
   ],
   "source": [
    "plt.plot(clf.components_[0])"
   ]
  },
  {
   "cell_type": "code",
   "execution_count": 162,
   "metadata": {},
   "outputs": [
    {
     "data": {
      "text/plain": [
       "43.71292605795281"
      ]
     },
     "execution_count": 162,
     "metadata": {},
     "output_type": "execute_result"
    }
   ],
   "source": [
    "clf.reconstruction_err_"
   ]
  },
  {
   "cell_type": "markdown",
   "metadata": {},
   "source": [
    "Aplicando SGD com o NMF"
   ]
  },
  {
   "cell_type": "code",
   "execution_count": 163,
   "metadata": {},
   "outputs": [],
   "source": [
    "lam=1e3\n",
    "lr=1e-2\n",
    "m, n = vectors_tfidf.shape"
   ]
  },
  {
   "cell_type": "code",
   "execution_count": 164,
   "metadata": {},
   "outputs": [
    {
     "name": "stderr",
     "output_type": "stream",
     "text": [
      "C:\\Users\\elxan\\anaconda3\\lib\\site-packages\\sklearn\\decomposition\\_nmf.py:312: FutureWarning: The 'init' value, when 'init=None' and n_components is less than n_samples and n_features, will be changed from 'nndsvd' to 'nndsvda' in 1.1 (renaming of 0.26).\n",
      "  warnings.warn((\"The 'init' value, when 'init=None' and \"\n"
     ]
    }
   ],
   "source": [
    "W1 = clf.fit_transform(vectors)\n",
    "H1 = clf.components_"
   ]
  },
  {
   "cell_type": "code",
   "execution_count": 165,
   "metadata": {},
   "outputs": [
    {
     "data": {
      "text/plain": [
       "['jpeg image gif file color images format quality version files',\n",
       " 'edu graphics pub mail 128 ray ftp send 3d com',\n",
       " 'space launch satellite nasa commercial satellites year market data earth',\n",
       " 'jesus god people matthew atheists does atheism said just believe',\n",
       " 'image data available software processing ftp edu analysis images display']"
      ]
     },
     "execution_count": 165,
     "metadata": {},
     "output_type": "execute_result"
    }
   ],
   "source": [
    "show_topics(H1)"
   ]
  },
  {
   "cell_type": "code",
   "execution_count": 166,
   "metadata": {},
   "outputs": [],
   "source": [
    "mu = 1e-6\n",
    "def grads(M, W, H):\n",
    "    R = W@H-M\n",
    "    return R@H.T + penalty(W, mu)*lam, W.T@R + penalty(H, mu)*lam # dW, dH"
   ]
  },
  {
   "cell_type": "code",
   "execution_count": 167,
   "metadata": {},
   "outputs": [],
   "source": [
    "def penalty(M, mu):\n",
    "    return np.where(M>=mu,0, np.min(M - mu, 0))"
   ]
  },
  {
   "cell_type": "code",
   "execution_count": 168,
   "metadata": {},
   "outputs": [],
   "source": [
    "def upd(M, W, H, lr):\n",
    "    dW,dH = grads(M,W,H)\n",
    "    W -= lr*dW; H -= lr*dH"
   ]
  },
  {
   "cell_type": "code",
   "execution_count": 169,
   "metadata": {},
   "outputs": [],
   "source": [
    "def report(M,W,H): \n",
    "    print(np.linalg.norm(M-W@H), W.min(), H.min(), (W<0).sum(), (H<0).sum())"
   ]
  },
  {
   "cell_type": "code",
   "execution_count": 170,
   "metadata": {},
   "outputs": [],
   "source": [
    "W = np.abs(np.random.normal(scale=0.01, size=(m,d)))\n",
    "H = np.abs(np.random.normal(scale=0.01, size=(d,n)))"
   ]
  },
  {
   "cell_type": "code",
   "execution_count": 171,
   "metadata": {},
   "outputs": [
    {
     "name": "stdout",
     "output_type": "stream",
     "text": [
      "44.42525713041379 1.2423873984267564e-06 3.170727646346859e-08 0 0\n"
     ]
    }
   ],
   "source": [
    "report(vectors_tfidf, W, H)"
   ]
  },
  {
   "cell_type": "code",
   "execution_count": 172,
   "metadata": {},
   "outputs": [],
   "source": [
    "upd(vectors_tfidf,W,H,lr)"
   ]
  },
  {
   "cell_type": "code",
   "execution_count": 173,
   "metadata": {},
   "outputs": [
    {
     "name": "stdout",
     "output_type": "stream",
     "text": [
      "44.41764679607786 -0.0006372029626913623 -7.026787352439305e-05 128 292\n"
     ]
    }
   ],
   "source": [
    "report(vectors_tfidf, W, H)"
   ]
  },
  {
   "cell_type": "code",
   "execution_count": 174,
   "metadata": {},
   "outputs": [
    {
     "name": "stdout",
     "output_type": "stream",
     "text": [
      "44.411861705740755 -0.0006930881521522881 -6.081737447115756e-05 145 273\n",
      "44.374391259489855 -0.000308834622106203 -6.201634855749347e-05 46 536\n",
      "44.34538679846034 -0.00019288963175843497 -6.765074689636629e-05 25 991\n",
      "44.313097084840514 -0.0001632898709066142 -8.100502933344807e-05 39 1528\n",
      "44.27768185859162 -0.00010897174766033 -0.00012575147276250022 39 2242\n"
     ]
    }
   ],
   "source": [
    "for i in range(50): \n",
    "    upd(vectors_tfidf,W,H,lr)\n",
    "    if i % 10 == 0: report(vectors_tfidf,W,H)"
   ]
  },
  {
   "cell_type": "code",
   "execution_count": 175,
   "metadata": {},
   "outputs": [
    {
     "data": {
      "text/plain": [
       "['god space does like don know people just think time',\n",
       " 'people god know don just space like think does good',\n",
       " 'space god don just people know think does like say',\n",
       " 'space don people god think just like know does good',\n",
       " 'don space people god think like just know ve does']"
      ]
     },
     "execution_count": 175,
     "metadata": {},
     "output_type": "execute_result"
    }
   ],
   "source": [
    "show_topics(H)"
   ]
  },
  {
   "cell_type": "code",
   "execution_count": 176,
   "metadata": {},
   "outputs": [],
   "source": [
    "from scipy import linalg"
   ]
  },
  {
   "cell_type": "code",
   "execution_count": 177,
   "metadata": {},
   "outputs": [],
   "source": [
    "def randomized_range_finder(A, size, n_iter=5):\n",
    "    Q = np.random.normal(size=(A.shape[1], size))\n",
    "    \n",
    "    for i in range(n_iter):\n",
    "        Q, _ = linalg.lu(A @ Q, permute_l=True)\n",
    "        Q, _ = linalg.lu(A.T @ Q, permute_l=True)\n",
    "        \n",
    "    Q, _ = linalg.qr(A @ Q, mode='economic')\n",
    "    return Q"
   ]
  },
  {
   "cell_type": "markdown",
   "metadata": {},
   "source": [
    "Construído SVD randomizado para aplicação"
   ]
  },
  {
   "cell_type": "code",
   "execution_count": 178,
   "metadata": {},
   "outputs": [],
   "source": [
    "def randomized_svd(M, n_components, n_oversamples=10, n_iter=4):\n",
    "    \n",
    "    n_random = n_components + n_oversamples\n",
    "    \n",
    "    Q = randomized_range_finder(M, n_random, n_iter)\n",
    "    \n",
    "    # project M to the (k + p) dimensional space using the basis vectors\n",
    "    B = Q.T @ M\n",
    "    \n",
    "    # compute the SVD on the thin matrix: (k + p) wide\n",
    "    Uhat, s, V = linalg.svd(B, full_matrices=False)\n",
    "    del B\n",
    "    U = Q @ Uhat\n",
    "    \n",
    "    return U[:, :n_components], s[:n_components], V[:n_components, :]"
   ]
  },
  {
   "cell_type": "code",
   "execution_count": 179,
   "metadata": {},
   "outputs": [],
   "source": [
    "u, s, v = randomized_svd(vectors, 5)"
   ]
  },
  {
   "cell_type": "code",
   "execution_count": 180,
   "metadata": {},
   "outputs": [
    {
     "name": "stdout",
     "output_type": "stream",
     "text": [
      "Wall time: 15.2 s\n"
     ]
    }
   ],
   "source": [
    "%time u, s, v = randomized_svd(vectors, 5)"
   ]
  },
  {
   "cell_type": "code",
   "execution_count": 181,
   "metadata": {},
   "outputs": [
    {
     "data": {
      "text/plain": [
       "((2034, 5), (5,), (5, 26576))"
      ]
     },
     "execution_count": 181,
     "metadata": {},
     "output_type": "execute_result"
    }
   ],
   "source": [
    "# dividindo em 5 listas\n",
    "u.shape, s.shape, v.shape"
   ]
  },
  {
   "cell_type": "code",
   "execution_count": 182,
   "metadata": {},
   "outputs": [
    {
     "data": {
      "text/plain": [
       "['jpeg image edu file graphics images gif data pub ftp',\n",
       " 'edu graphics data space pub mail 128 3d ray nasa',\n",
       " 'graphics edu pub mail 128 3d ray ftp send image',\n",
       " 'jesus god matthew people atheists atheism does graphics religious said',\n",
       " 'image data processing analysis software available tools display tool user']"
      ]
     },
     "execution_count": 182,
     "metadata": {},
     "output_type": "execute_result"
    }
   ],
   "source": [
    "# os tópicos relacionnados dentro da cada lista\n",
    "show_topics(v)"
   ]
  },
  {
   "cell_type": "markdown",
   "metadata": {},
   "source": [
    "<div class=\"alert alert-block alert-info\">\n",
    "5. CASOS DE USO\n",
    "</div>"
   ]
  },
  {
   "cell_type": "code",
   "execution_count": 227,
   "metadata": {},
   "outputs": [],
   "source": [
    "import numpy as np\n",
    "import pandas as pd\n",
    "import matplotlib.pyplot as plt"
   ]
  },
  {
   "cell_type": "code",
   "execution_count": 184,
   "metadata": {},
   "outputs": [],
   "source": [
    "from sklearn.feature_extraction.text import CountVectorizer, TfidfVectorizer"
   ]
  },
  {
   "cell_type": "code",
   "execution_count": 217,
   "metadata": {},
   "outputs": [
    {
     "data": {
      "text/html": [
       "<div>\n",
       "<style scoped>\n",
       "    .dataframe tbody tr th:only-of-type {\n",
       "        vertical-align: middle;\n",
       "    }\n",
       "\n",
       "    .dataframe tbody tr th {\n",
       "        vertical-align: top;\n",
       "    }\n",
       "\n",
       "    .dataframe thead th {\n",
       "        text-align: right;\n",
       "    }\n",
       "</style>\n",
       "<table border=\"1\" class=\"dataframe\">\n",
       "  <thead>\n",
       "    <tr style=\"text-align: right;\">\n",
       "      <th></th>\n",
       "      <th>Hotel_Address</th>\n",
       "      <th>Additional_Number_of_Scoring</th>\n",
       "      <th>Review_Date</th>\n",
       "      <th>Average_Score</th>\n",
       "      <th>Hotel_Name</th>\n",
       "      <th>Reviewer_Nationality</th>\n",
       "      <th>Negative_Review</th>\n",
       "      <th>Review_Total_Negative_Word_Counts</th>\n",
       "      <th>Total_Number_of_Reviews</th>\n",
       "      <th>Positive_Review</th>\n",
       "      <th>Review_Total_Positive_Word_Counts</th>\n",
       "      <th>Total_Number_of_Reviews_Reviewer_Has_Given</th>\n",
       "      <th>Reviewer_Score</th>\n",
       "      <th>Tags</th>\n",
       "      <th>days_since_review</th>\n",
       "      <th>lat</th>\n",
       "      <th>lng</th>\n",
       "      <th>Review</th>\n",
       "    </tr>\n",
       "  </thead>\n",
       "  <tbody>\n",
       "    <tr>\n",
       "      <th>0</th>\n",
       "      <td>s Gravesandestraat 55 Oost 1092 AA Amsterdam ...</td>\n",
       "      <td>194</td>\n",
       "      <td>8/3/2017</td>\n",
       "      <td>7.7</td>\n",
       "      <td>Hotel Arena</td>\n",
       "      <td>Russia</td>\n",
       "      <td>I am so angry that i made this post available...</td>\n",
       "      <td>397</td>\n",
       "      <td>1403</td>\n",
       "      <td>Only the park outside of the hotel was beauti...</td>\n",
       "      <td>11</td>\n",
       "      <td>7</td>\n",
       "      <td>2.9</td>\n",
       "      <td>[' Leisure trip ', ' Couple ', ' Duplex Double...</td>\n",
       "      <td>0 days</td>\n",
       "      <td>52.360576</td>\n",
       "      <td>4.915968</td>\n",
       "      <td>I am so angry that i made this post available...</td>\n",
       "    </tr>\n",
       "    <tr>\n",
       "      <th>1</th>\n",
       "      <td>s Gravesandestraat 55 Oost 1092 AA Amsterdam ...</td>\n",
       "      <td>194</td>\n",
       "      <td>8/3/2017</td>\n",
       "      <td>7.7</td>\n",
       "      <td>Hotel Arena</td>\n",
       "      <td>Ireland</td>\n",
       "      <td>No Negative</td>\n",
       "      <td>0</td>\n",
       "      <td>1403</td>\n",
       "      <td>No real complaints the hotel was great great ...</td>\n",
       "      <td>105</td>\n",
       "      <td>7</td>\n",
       "      <td>7.5</td>\n",
       "      <td>[' Leisure trip ', ' Couple ', ' Duplex Double...</td>\n",
       "      <td>0 days</td>\n",
       "      <td>52.360576</td>\n",
       "      <td>4.915968</td>\n",
       "      <td>No Negative  No real complaints the hotel was ...</td>\n",
       "    </tr>\n",
       "    <tr>\n",
       "      <th>2</th>\n",
       "      <td>s Gravesandestraat 55 Oost 1092 AA Amsterdam ...</td>\n",
       "      <td>194</td>\n",
       "      <td>7/31/2017</td>\n",
       "      <td>7.7</td>\n",
       "      <td>Hotel Arena</td>\n",
       "      <td>Australia</td>\n",
       "      <td>Rooms are nice but for elderly a bit difficul...</td>\n",
       "      <td>42</td>\n",
       "      <td>1403</td>\n",
       "      <td>Location was good and staff were ok It is cut...</td>\n",
       "      <td>21</td>\n",
       "      <td>9</td>\n",
       "      <td>7.1</td>\n",
       "      <td>[' Leisure trip ', ' Family with young childre...</td>\n",
       "      <td>3 days</td>\n",
       "      <td>52.360576</td>\n",
       "      <td>4.915968</td>\n",
       "      <td>Rooms are nice but for elderly a bit difficul...</td>\n",
       "    </tr>\n",
       "    <tr>\n",
       "      <th>3</th>\n",
       "      <td>s Gravesandestraat 55 Oost 1092 AA Amsterdam ...</td>\n",
       "      <td>194</td>\n",
       "      <td>7/31/2017</td>\n",
       "      <td>7.7</td>\n",
       "      <td>Hotel Arena</td>\n",
       "      <td>United Kingdom</td>\n",
       "      <td>My room was dirty and I was afraid to walk ba...</td>\n",
       "      <td>210</td>\n",
       "      <td>1403</td>\n",
       "      <td>Great location in nice surroundings the bar a...</td>\n",
       "      <td>26</td>\n",
       "      <td>1</td>\n",
       "      <td>3.8</td>\n",
       "      <td>[' Leisure trip ', ' Solo traveler ', ' Duplex...</td>\n",
       "      <td>3 days</td>\n",
       "      <td>52.360576</td>\n",
       "      <td>4.915968</td>\n",
       "      <td>My room was dirty and I was afraid to walk ba...</td>\n",
       "    </tr>\n",
       "    <tr>\n",
       "      <th>4</th>\n",
       "      <td>s Gravesandestraat 55 Oost 1092 AA Amsterdam ...</td>\n",
       "      <td>194</td>\n",
       "      <td>7/24/2017</td>\n",
       "      <td>7.7</td>\n",
       "      <td>Hotel Arena</td>\n",
       "      <td>New Zealand</td>\n",
       "      <td>You When I booked with your company on line y...</td>\n",
       "      <td>140</td>\n",
       "      <td>1403</td>\n",
       "      <td>Amazing location and building Romantic setting</td>\n",
       "      <td>8</td>\n",
       "      <td>3</td>\n",
       "      <td>6.7</td>\n",
       "      <td>[' Leisure trip ', ' Couple ', ' Suite ', ' St...</td>\n",
       "      <td>10 days</td>\n",
       "      <td>52.360576</td>\n",
       "      <td>4.915968</td>\n",
       "      <td>You When I booked with your company on line y...</td>\n",
       "    </tr>\n",
       "    <tr>\n",
       "      <th>...</th>\n",
       "      <td>...</td>\n",
       "      <td>...</td>\n",
       "      <td>...</td>\n",
       "      <td>...</td>\n",
       "      <td>...</td>\n",
       "      <td>...</td>\n",
       "      <td>...</td>\n",
       "      <td>...</td>\n",
       "      <td>...</td>\n",
       "      <td>...</td>\n",
       "      <td>...</td>\n",
       "      <td>...</td>\n",
       "      <td>...</td>\n",
       "      <td>...</td>\n",
       "      <td>...</td>\n",
       "      <td>...</td>\n",
       "      <td>...</td>\n",
       "      <td>...</td>\n",
       "    </tr>\n",
       "    <tr>\n",
       "      <th>515733</th>\n",
       "      <td>Wurzbachgasse 21 15 Rudolfsheim F nfhaus 1150 ...</td>\n",
       "      <td>168</td>\n",
       "      <td>8/30/2015</td>\n",
       "      <td>8.1</td>\n",
       "      <td>Atlantis Hotel Vienna</td>\n",
       "      <td>Kuwait</td>\n",
       "      <td>no trolly or staff to help you take the lugga...</td>\n",
       "      <td>14</td>\n",
       "      <td>2823</td>\n",
       "      <td>location</td>\n",
       "      <td>2</td>\n",
       "      <td>8</td>\n",
       "      <td>7.0</td>\n",
       "      <td>[' Leisure trip ', ' Family with older childre...</td>\n",
       "      <td>704 day</td>\n",
       "      <td>48.203745</td>\n",
       "      <td>16.335677</td>\n",
       "      <td>no trolly or staff to help you take the lugga...</td>\n",
       "    </tr>\n",
       "    <tr>\n",
       "      <th>515734</th>\n",
       "      <td>Wurzbachgasse 21 15 Rudolfsheim F nfhaus 1150 ...</td>\n",
       "      <td>168</td>\n",
       "      <td>8/22/2015</td>\n",
       "      <td>8.1</td>\n",
       "      <td>Atlantis Hotel Vienna</td>\n",
       "      <td>Estonia</td>\n",
       "      <td>The hotel looks like 3 but surely not 4</td>\n",
       "      <td>11</td>\n",
       "      <td>2823</td>\n",
       "      <td>Breakfast was ok and we got earlier check in</td>\n",
       "      <td>11</td>\n",
       "      <td>12</td>\n",
       "      <td>5.8</td>\n",
       "      <td>[' Leisure trip ', ' Family with young childre...</td>\n",
       "      <td>712 day</td>\n",
       "      <td>48.203745</td>\n",
       "      <td>16.335677</td>\n",
       "      <td>The hotel looks like 3 but surely not 4   Bre...</td>\n",
       "    </tr>\n",
       "    <tr>\n",
       "      <th>515735</th>\n",
       "      <td>Wurzbachgasse 21 15 Rudolfsheim F nfhaus 1150 ...</td>\n",
       "      <td>168</td>\n",
       "      <td>8/19/2015</td>\n",
       "      <td>8.1</td>\n",
       "      <td>Atlantis Hotel Vienna</td>\n",
       "      <td>Egypt</td>\n",
       "      <td>The ac was useless It was a hot week in vienn...</td>\n",
       "      <td>19</td>\n",
       "      <td>2823</td>\n",
       "      <td>No Positive</td>\n",
       "      <td>0</td>\n",
       "      <td>3</td>\n",
       "      <td>2.5</td>\n",
       "      <td>[' Leisure trip ', ' Family with older childre...</td>\n",
       "      <td>715 day</td>\n",
       "      <td>48.203745</td>\n",
       "      <td>16.335677</td>\n",
       "      <td>The ac was useless It was a hot week in vienn...</td>\n",
       "    </tr>\n",
       "    <tr>\n",
       "      <th>515736</th>\n",
       "      <td>Wurzbachgasse 21 15 Rudolfsheim F nfhaus 1150 ...</td>\n",
       "      <td>168</td>\n",
       "      <td>8/17/2015</td>\n",
       "      <td>8.1</td>\n",
       "      <td>Atlantis Hotel Vienna</td>\n",
       "      <td>Mexico</td>\n",
       "      <td>No Negative</td>\n",
       "      <td>0</td>\n",
       "      <td>2823</td>\n",
       "      <td>The rooms are enormous and really comfortable...</td>\n",
       "      <td>25</td>\n",
       "      <td>3</td>\n",
       "      <td>8.8</td>\n",
       "      <td>[' Leisure trip ', ' Group ', ' Standard Tripl...</td>\n",
       "      <td>717 day</td>\n",
       "      <td>48.203745</td>\n",
       "      <td>16.335677</td>\n",
       "      <td>No Negative  The rooms are enormous and really...</td>\n",
       "    </tr>\n",
       "    <tr>\n",
       "      <th>515737</th>\n",
       "      <td>Wurzbachgasse 21 15 Rudolfsheim F nfhaus 1150 ...</td>\n",
       "      <td>168</td>\n",
       "      <td>8/9/2015</td>\n",
       "      <td>8.1</td>\n",
       "      <td>Atlantis Hotel Vienna</td>\n",
       "      <td>Hungary</td>\n",
       "      <td>I was in 3rd floor It didn t work Free Wife</td>\n",
       "      <td>13</td>\n",
       "      <td>2823</td>\n",
       "      <td>staff was very kind</td>\n",
       "      <td>6</td>\n",
       "      <td>1</td>\n",
       "      <td>8.3</td>\n",
       "      <td>[' Leisure trip ', ' Family with young childre...</td>\n",
       "      <td>725 day</td>\n",
       "      <td>48.203745</td>\n",
       "      <td>16.335677</td>\n",
       "      <td>I was in 3rd floor It didn t work Free Wife  ...</td>\n",
       "    </tr>\n",
       "  </tbody>\n",
       "</table>\n",
       "<p>515738 rows × 18 columns</p>\n",
       "</div>"
      ],
      "text/plain": [
       "                                            Hotel_Address  \\\n",
       "0        s Gravesandestraat 55 Oost 1092 AA Amsterdam ...   \n",
       "1        s Gravesandestraat 55 Oost 1092 AA Amsterdam ...   \n",
       "2        s Gravesandestraat 55 Oost 1092 AA Amsterdam ...   \n",
       "3        s Gravesandestraat 55 Oost 1092 AA Amsterdam ...   \n",
       "4        s Gravesandestraat 55 Oost 1092 AA Amsterdam ...   \n",
       "...                                                   ...   \n",
       "515733  Wurzbachgasse 21 15 Rudolfsheim F nfhaus 1150 ...   \n",
       "515734  Wurzbachgasse 21 15 Rudolfsheim F nfhaus 1150 ...   \n",
       "515735  Wurzbachgasse 21 15 Rudolfsheim F nfhaus 1150 ...   \n",
       "515736  Wurzbachgasse 21 15 Rudolfsheim F nfhaus 1150 ...   \n",
       "515737  Wurzbachgasse 21 15 Rudolfsheim F nfhaus 1150 ...   \n",
       "\n",
       "        Additional_Number_of_Scoring Review_Date  Average_Score  \\\n",
       "0                                194    8/3/2017            7.7   \n",
       "1                                194    8/3/2017            7.7   \n",
       "2                                194   7/31/2017            7.7   \n",
       "3                                194   7/31/2017            7.7   \n",
       "4                                194   7/24/2017            7.7   \n",
       "...                              ...         ...            ...   \n",
       "515733                           168   8/30/2015            8.1   \n",
       "515734                           168   8/22/2015            8.1   \n",
       "515735                           168   8/19/2015            8.1   \n",
       "515736                           168   8/17/2015            8.1   \n",
       "515737                           168    8/9/2015            8.1   \n",
       "\n",
       "                   Hotel_Name Reviewer_Nationality  \\\n",
       "0                 Hotel Arena              Russia    \n",
       "1                 Hotel Arena             Ireland    \n",
       "2                 Hotel Arena           Australia    \n",
       "3                 Hotel Arena      United Kingdom    \n",
       "4                 Hotel Arena         New Zealand    \n",
       "...                       ...                  ...   \n",
       "515733  Atlantis Hotel Vienna              Kuwait    \n",
       "515734  Atlantis Hotel Vienna             Estonia    \n",
       "515735  Atlantis Hotel Vienna               Egypt    \n",
       "515736  Atlantis Hotel Vienna              Mexico    \n",
       "515737  Atlantis Hotel Vienna             Hungary    \n",
       "\n",
       "                                          Negative_Review  \\\n",
       "0        I am so angry that i made this post available...   \n",
       "1                                             No Negative   \n",
       "2        Rooms are nice but for elderly a bit difficul...   \n",
       "3        My room was dirty and I was afraid to walk ba...   \n",
       "4        You When I booked with your company on line y...   \n",
       "...                                                   ...   \n",
       "515733   no trolly or staff to help you take the lugga...   \n",
       "515734           The hotel looks like 3 but surely not 4    \n",
       "515735   The ac was useless It was a hot week in vienn...   \n",
       "515736                                        No Negative   \n",
       "515737       I was in 3rd floor It didn t work Free Wife    \n",
       "\n",
       "        Review_Total_Negative_Word_Counts  Total_Number_of_Reviews  \\\n",
       "0                                     397                     1403   \n",
       "1                                       0                     1403   \n",
       "2                                      42                     1403   \n",
       "3                                     210                     1403   \n",
       "4                                     140                     1403   \n",
       "...                                   ...                      ...   \n",
       "515733                                 14                     2823   \n",
       "515734                                 11                     2823   \n",
       "515735                                 19                     2823   \n",
       "515736                                  0                     2823   \n",
       "515737                                 13                     2823   \n",
       "\n",
       "                                          Positive_Review  \\\n",
       "0        Only the park outside of the hotel was beauti...   \n",
       "1        No real complaints the hotel was great great ...   \n",
       "2        Location was good and staff were ok It is cut...   \n",
       "3        Great location in nice surroundings the bar a...   \n",
       "4         Amazing location and building Romantic setting    \n",
       "...                                                   ...   \n",
       "515733                                           location   \n",
       "515734      Breakfast was ok and we got earlier check in    \n",
       "515735                                        No Positive   \n",
       "515736   The rooms are enormous and really comfortable...   \n",
       "515737                               staff was very kind    \n",
       "\n",
       "        Review_Total_Positive_Word_Counts  \\\n",
       "0                                      11   \n",
       "1                                     105   \n",
       "2                                      21   \n",
       "3                                      26   \n",
       "4                                       8   \n",
       "...                                   ...   \n",
       "515733                                  2   \n",
       "515734                                 11   \n",
       "515735                                  0   \n",
       "515736                                 25   \n",
       "515737                                  6   \n",
       "\n",
       "        Total_Number_of_Reviews_Reviewer_Has_Given  Reviewer_Score  \\\n",
       "0                                                7             2.9   \n",
       "1                                                7             7.5   \n",
       "2                                                9             7.1   \n",
       "3                                                1             3.8   \n",
       "4                                                3             6.7   \n",
       "...                                            ...             ...   \n",
       "515733                                           8             7.0   \n",
       "515734                                          12             5.8   \n",
       "515735                                           3             2.5   \n",
       "515736                                           3             8.8   \n",
       "515737                                           1             8.3   \n",
       "\n",
       "                                                     Tags days_since_review  \\\n",
       "0       [' Leisure trip ', ' Couple ', ' Duplex Double...            0 days   \n",
       "1       [' Leisure trip ', ' Couple ', ' Duplex Double...            0 days   \n",
       "2       [' Leisure trip ', ' Family with young childre...            3 days   \n",
       "3       [' Leisure trip ', ' Solo traveler ', ' Duplex...            3 days   \n",
       "4       [' Leisure trip ', ' Couple ', ' Suite ', ' St...           10 days   \n",
       "...                                                   ...               ...   \n",
       "515733  [' Leisure trip ', ' Family with older childre...           704 day   \n",
       "515734  [' Leisure trip ', ' Family with young childre...           712 day   \n",
       "515735  [' Leisure trip ', ' Family with older childre...           715 day   \n",
       "515736  [' Leisure trip ', ' Group ', ' Standard Tripl...           717 day   \n",
       "515737  [' Leisure trip ', ' Family with young childre...           725 day   \n",
       "\n",
       "              lat        lng  \\\n",
       "0       52.360576   4.915968   \n",
       "1       52.360576   4.915968   \n",
       "2       52.360576   4.915968   \n",
       "3       52.360576   4.915968   \n",
       "4       52.360576   4.915968   \n",
       "...           ...        ...   \n",
       "515733  48.203745  16.335677   \n",
       "515734  48.203745  16.335677   \n",
       "515735  48.203745  16.335677   \n",
       "515736  48.203745  16.335677   \n",
       "515737  48.203745  16.335677   \n",
       "\n",
       "                                                   Review  \n",
       "0        I am so angry that i made this post available...  \n",
       "1       No Negative  No real complaints the hotel was ...  \n",
       "2        Rooms are nice but for elderly a bit difficul...  \n",
       "3        My room was dirty and I was afraid to walk ba...  \n",
       "4        You When I booked with your company on line y...  \n",
       "...                                                   ...  \n",
       "515733   no trolly or staff to help you take the lugga...  \n",
       "515734   The hotel looks like 3 but surely not 4   Bre...  \n",
       "515735   The ac was useless It was a hot week in vienn...  \n",
       "515736  No Negative  The rooms are enormous and really...  \n",
       "515737   I was in 3rd floor It didn t work Free Wife  ...  \n",
       "\n",
       "[515738 rows x 18 columns]"
      ]
     },
     "execution_count": 217,
     "metadata": {},
     "output_type": "execute_result"
    }
   ],
   "source": [
    "df = pd.read_csv('Hotel_Reviews.csv')\n",
    "df[\"Review\"] = df[\"Negative_Review\"] + \" \" + df[\"Positive_Review\"]\n",
    "df "
   ]
  },
  {
   "cell_type": "code",
   "execution_count": 218,
   "metadata": {},
   "outputs": [
    {
     "data": {
      "text/plain": [
       "(18, 18)"
      ]
     },
     "execution_count": 218,
     "metadata": {},
     "output_type": "execute_result"
    }
   ],
   "source": [
    "vectorizer = CountVectorizer(stop_words='english')\n",
    "vectors = vectorizer.fit_transform(df).todense() # (documents, vocab)\n",
    "vectors.shape"
   ]
  },
  {
   "cell_type": "code",
   "execution_count": 219,
   "metadata": {},
   "outputs": [
    {
     "name": "stdout",
     "output_type": "stream",
     "text": [
      "Wall time: 0 ns\n"
     ]
    }
   ],
   "source": [
    "%time U, s, Vh = linalg.svd(vectors, full_matrices=False)"
   ]
  },
  {
   "cell_type": "code",
   "execution_count": 220,
   "metadata": {},
   "outputs": [],
   "source": [
    "vocab = np.array(vectorizer.get_feature_names())"
   ]
  },
  {
   "cell_type": "code",
   "execution_count": 221,
   "metadata": {},
   "outputs": [
    {
     "data": {
      "text/plain": [
       "(18,)"
      ]
     },
     "execution_count": 221,
     "metadata": {},
     "output_type": "execute_result"
    }
   ],
   "source": [
    "vocab.shape"
   ]
  },
  {
   "cell_type": "code",
   "execution_count": 222,
   "metadata": {},
   "outputs": [
    {
     "data": {
      "text/plain": [
       "array([], dtype='<U42')"
      ]
     },
     "execution_count": 222,
     "metadata": {},
     "output_type": "execute_result"
    }
   ],
   "source": [
    "vocab[1000:1030]"
   ]
  },
  {
   "cell_type": "code",
   "execution_count": 223,
   "metadata": {},
   "outputs": [
    {
     "data": {
      "text/plain": [
       "['total_number_of_reviews_reviewer_has_given total_number_of_reviews average_score days_since_review hotel_address hotel_name lat lng negative_review positive_review',\n",
       " 'total_number_of_reviews_reviewer_has_given total_number_of_reviews days_since_review hotel_address hotel_name lat lng negative_review positive_review review',\n",
       " 'total_number_of_reviews_reviewer_has_given total_number_of_reviews average_score hotel_address hotel_name lat lng negative_review positive_review review',\n",
       " 'hotel_address total_number_of_reviews_reviewer_has_given total_number_of_reviews average_score days_since_review hotel_name lat lng negative_review positive_review',\n",
       " 'hotel_name total_number_of_reviews_reviewer_has_given total_number_of_reviews average_score days_since_review hotel_address lat lng negative_review positive_review',\n",
       " 'total_number_of_reviews_reviewer_has_given total_number_of_reviews average_score days_since_review hotel_address hotel_name lng negative_review positive_review review',\n",
       " 'total_number_of_reviews_reviewer_has_given total_number_of_reviews average_score days_since_review hotel_address hotel_name lat negative_review positive_review review',\n",
       " 'total_number_of_reviews_reviewer_has_given total_number_of_reviews average_score days_since_review hotel_address hotel_name lat lng positive_review review',\n",
       " 'total_number_of_reviews_reviewer_has_given total_number_of_reviews average_score days_since_review hotel_address hotel_name lat lng negative_review additional_number_of_scoring',\n",
       " 'total_number_of_reviews_reviewer_has_given total_number_of_reviews average_score days_since_review hotel_address hotel_name lat lng negative_review positive_review']"
      ]
     },
     "execution_count": 223,
     "metadata": {},
     "output_type": "execute_result"
    }
   ],
   "source": [
    "show_topics(Vh[:10])"
   ]
  },
  {
   "cell_type": "markdown",
   "metadata": {},
   "source": [
    "Usando o método NMF"
   ]
  },
  {
   "cell_type": "code",
   "execution_count": 228,
   "metadata": {},
   "outputs": [],
   "source": [
    "m,n=vectors.shape\n",
    "d=5 "
   ]
  },
  {
   "cell_type": "code",
   "execution_count": 229,
   "metadata": {},
   "outputs": [
    {
     "name": "stderr",
     "output_type": "stream",
     "text": [
      "C:\\Users\\elxan\\anaconda3\\lib\\site-packages\\sklearn\\decomposition\\_nmf.py:312: FutureWarning: The 'init' value, when 'init=None' and n_components is less than n_samples and n_features, will be changed from 'nndsvd' to 'nndsvda' in 1.1 (renaming of 0.26).\n",
      "  warnings.warn((\"The 'init' value, when 'init=None' and \"\n"
     ]
    }
   ],
   "source": [
    "clf = decomposition.NMF(n_components=d, random_state=1)\n",
    "\n",
    "W1 = clf.fit_transform(vectors)\n",
    "H1 = clf.components_"
   ]
  },
  {
   "cell_type": "code",
   "execution_count": 230,
   "metadata": {},
   "outputs": [
    {
     "data": {
      "text/plain": [
       "['review total_number_of_reviews reviewer_score lat hotel_name total_number_of_reviews_reviewer_has_given lng average_score days_since_review hotel_address',\n",
       " 'average_score additional_number_of_scoring review_total_negative_word_counts total_number_of_reviews_reviewer_has_given negative_review reviewer_nationality review_total_positive_word_counts reviewer_score review_date review',\n",
       " 'lng review_total_positive_word_counts hotel_address hotel_name additional_number_of_scoring reviewer_nationality negative_review average_score days_since_review lat',\n",
       " 'reviewer_nationality tags days_since_review positive_review negative_review total_number_of_reviews lng average_score hotel_address hotel_name',\n",
       " 'review_date reviewer_score days_since_review hotel_address total_number_of_reviews_reviewer_has_given negative_review average_score hotel_name lat lng']"
      ]
     },
     "execution_count": 230,
     "metadata": {},
     "output_type": "execute_result"
    }
   ],
   "source": [
    "show_topics(H1)"
   ]
  },
  {
   "cell_type": "markdown",
   "metadata": {},
   "source": [
    "Com TF-IDF"
   ]
  },
  {
   "cell_type": "code",
   "execution_count": 231,
   "metadata": {},
   "outputs": [],
   "source": [
    "vectorizer_tfidf = TfidfVectorizer(stop_words='english')\n",
    "vectors_tfidf = vectorizer_tfidf.fit_transform(corpo_texto) # (documents, vocab)"
   ]
  },
  {
   "cell_type": "code",
   "execution_count": 232,
   "metadata": {},
   "outputs": [
    {
     "name": "stderr",
     "output_type": "stream",
     "text": [
      "C:\\Users\\elxan\\anaconda3\\lib\\site-packages\\sklearn\\decomposition\\_nmf.py:312: FutureWarning: The 'init' value, when 'init=None' and n_components is less than n_samples and n_features, will be changed from 'nndsvd' to 'nndsvda' in 1.1 (renaming of 0.26).\n",
      "  warnings.warn((\"The 'init' value, when 'init=None' and \"\n"
     ]
    }
   ],
   "source": [
    "W1 = clf.fit_transform(vectors_tfidf)\n",
    "H1 = clf.components_"
   ]
  },
  {
   "cell_type": "code",
   "execution_count": 233,
   "metadata": {},
   "outputs": [
    {
     "data": {
      "text/plain": [
       "['days_since_review positive_review total_number_of_reviews review review_total_positive_word_counts lat review_date reviewer_nationality review_total_negative_word_counts tags',\n",
       " 'lng review_total_positive_word_counts hotel_name average_score reviewer_score total_number_of_reviews days_since_review hotel_address lat positive_review',\n",
       " 'review_total_negative_word_counts hotel_name lat average_score negative_review total_number_of_reviews days_since_review hotel_address lng positive_review',\n",
       " 'reviewer_nationality hotel_address average_score tags additional_number_of_scoring total_number_of_reviews review_date review review_total_negative_word_counts negative_review',\n",
       " 'reviewer_score negative_review review_date tags total_number_of_reviews lat average_score days_since_review hotel_address hotel_name']"
      ]
     },
     "execution_count": 233,
     "metadata": {},
     "output_type": "execute_result"
    }
   ],
   "source": [
    "show_topics(H1)"
   ]
  },
  {
   "cell_type": "code",
   "execution_count": 234,
   "metadata": {},
   "outputs": [
    {
     "data": {
      "text/plain": [
       "[<matplotlib.lines.Line2D at 0x147995f5400>]"
      ]
     },
     "execution_count": 234,
     "metadata": {},
     "output_type": "execute_result"
    },
    {
     "data": {
      "image/png": "[encoded data removed]",
      "text/plain": [
       "<Figure size 432x288 with 1 Axes>"
      ]
     },
     "metadata": {
      "needs_background": "light"
     },
     "output_type": "display_data"
    }
   ],
   "source": [
    "plt.plot(clf.components_[0])"
   ]
  },
  {
   "cell_type": "code",
   "execution_count": 235,
   "metadata": {},
   "outputs": [
    {
     "data": {
      "text/plain": [
       "3.4641026107781583"
      ]
     },
     "execution_count": 235,
     "metadata": {},
     "output_type": "execute_result"
    }
   ],
   "source": [
    "clf.reconstruction_err_"
   ]
  },
  {
   "cell_type": "markdown",
   "metadata": {},
   "source": [
    "Usando o método SGD com NMF"
   ]
  },
  {
   "cell_type": "code",
   "execution_count": 236,
   "metadata": {},
   "outputs": [],
   "source": [
    "lam=1e3\n",
    "lr=1e-2\n",
    "m, n = vectors_tfidf.shape"
   ]
  },
  {
   "cell_type": "code",
   "execution_count": 237,
   "metadata": {},
   "outputs": [
    {
     "name": "stderr",
     "output_type": "stream",
     "text": [
      "C:\\Users\\elxan\\anaconda3\\lib\\site-packages\\sklearn\\decomposition\\_nmf.py:312: FutureWarning: The 'init' value, when 'init=None' and n_components is less than n_samples and n_features, will be changed from 'nndsvd' to 'nndsvda' in 1.1 (renaming of 0.26).\n",
      "  warnings.warn((\"The 'init' value, when 'init=None' and \"\n"
     ]
    }
   ],
   "source": [
    "W1 = clf.fit_transform(vectors)\n",
    "H1 = clf.components_"
   ]
  },
  {
   "cell_type": "code",
   "execution_count": 238,
   "metadata": {},
   "outputs": [
    {
     "data": {
      "text/plain": [
       "['review total_number_of_reviews reviewer_score lat hotel_name total_number_of_reviews_reviewer_has_given lng average_score days_since_review hotel_address',\n",
       " 'average_score additional_number_of_scoring review_total_negative_word_counts total_number_of_reviews_reviewer_has_given negative_review reviewer_nationality review_total_positive_word_counts reviewer_score review_date review',\n",
       " 'lng review_total_positive_word_counts hotel_address hotel_name additional_number_of_scoring reviewer_nationality negative_review average_score days_since_review lat',\n",
       " 'reviewer_nationality tags days_since_review positive_review negative_review total_number_of_reviews lng average_score hotel_address hotel_name',\n",
       " 'review_date reviewer_score days_since_review hotel_address total_number_of_reviews_reviewer_has_given negative_review average_score hotel_name lat lng']"
      ]
     },
     "execution_count": 238,
     "metadata": {},
     "output_type": "execute_result"
    }
   ],
   "source": [
    "show_topics(H1)"
   ]
  },
  {
   "cell_type": "code",
   "execution_count": 239,
   "metadata": {},
   "outputs": [],
   "source": [
    "W = np.abs(np.random.normal(scale=0.01, size=(m,d)))\n",
    "H = np.abs(np.random.normal(scale=0.01, size=(d,n)))"
   ]
  },
  {
   "cell_type": "code",
   "execution_count": 241,
   "metadata": {},
   "outputs": [
    {
     "name": "stdout",
     "output_type": "stream",
     "text": [
      "4.121713505742294 0.0002139764735835484 0.0009650980567526013 0 0\n"
     ]
    }
   ],
   "source": [
    "report(vectors_tfidf, W, H)"
   ]
  },
  {
   "cell_type": "code",
   "execution_count": 242,
   "metadata": {},
   "outputs": [],
   "source": [
    "upd(vectors_tfidf,W,H,lr)"
   ]
  },
  {
   "cell_type": "code",
   "execution_count": 243,
   "metadata": {},
   "outputs": [
    {
     "name": "stdout",
     "output_type": "stream",
     "text": [
      "4.121672305858392 0.0002435566114608804 0.0010672918354180977 0 0\n"
     ]
    }
   ],
   "source": [
    "report(vectors_tfidf, W, H)"
   ]
  },
  {
   "cell_type": "code",
   "execution_count": 244,
   "metadata": {},
   "outputs": [
    {
     "name": "stdout",
     "output_type": "stream",
     "text": [
      "4.121630558616525 0.0002731448018988481 0.0011695661061952426 0 0\n",
      "4.1211793838081165 0.0005700298462260006 0.0018387625656764732 0 0\n",
      "4.120654625559726 0.0008704760435963042 0.0020911381757998497 0 0\n",
      "4.120036694367272 0.001176864143160377 0.0023616203185201088 0 0\n",
      "4.119302925502196 0.0014914193548601652 0.002652035302471009 0 0\n"
     ]
    }
   ],
   "source": [
    "for i in range(50): \n",
    "    upd(vectors_tfidf,W,H,lr)\n",
    "    if i % 10 == 0: report(vectors_tfidf,W,H)"
   ]
  },
  {
   "cell_type": "code",
   "execution_count": 245,
   "metadata": {},
   "outputs": [
    {
     "data": {
      "text/plain": [
       "['hotel_name review_date reviewer_nationality reviewer_score negative_review hotel_address average_score review review_total_positive_word_counts days_since_review',\n",
       " 'negative_review review reviewer_score hotel_address additional_number_of_scoring average_score review_date positive_review tags review_total_positive_word_counts',\n",
       " 'review_total_positive_word_counts review_date review_total_negative_word_counts negative_review hotel_address reviewer_score review hotel_name days_since_review tags',\n",
       " 'review days_since_review hotel_name hotel_address reviewer_nationality total_number_of_reviews reviewer_score review_date lat additional_number_of_scoring',\n",
       " 'review_date days_since_review review tags lng hotel_name review_total_negative_word_counts reviewer_score positive_review average_score']"
      ]
     },
     "execution_count": 245,
     "metadata": {},
     "output_type": "execute_result"
    }
   ],
   "source": [
    "show_topics(H)"
   ]
  },
  {
   "cell_type": "markdown",
   "metadata": {},
   "source": [
    "Com o SVD randomizado"
   ]
  },
  {
   "cell_type": "code",
   "execution_count": 246,
   "metadata": {},
   "outputs": [],
   "source": [
    "u, s, v = randomized_svd(vectors, 5)"
   ]
  },
  {
   "cell_type": "code",
   "execution_count": 247,
   "metadata": {},
   "outputs": [
    {
     "name": "stdout",
     "output_type": "stream",
     "text": [
      "Wall time: 4 ms\n"
     ]
    }
   ],
   "source": [
    "%time u, s, v = randomized_svd(vectors, 5)"
   ]
  },
  {
   "cell_type": "code",
   "execution_count": 248,
   "metadata": {},
   "outputs": [
    {
     "data": {
      "text/plain": [
       "((18, 5), (5,), (5, 18))"
      ]
     },
     "execution_count": 248,
     "metadata": {},
     "output_type": "execute_result"
    }
   ],
   "source": [
    "u.shape, s.shape, v.shape"
   ]
  },
  {
   "cell_type": "code",
   "execution_count": 249,
   "metadata": {},
   "outputs": [
    {
     "data": {
      "text/plain": [
       "['hotel_address tags review_date negative_review days_since_review review_total_positive_word_counts reviewer_score lat reviewer_nationality additional_number_of_scoring',\n",
       " 'lng days_since_review hotel_address tags positive_review total_number_of_reviews negative_review review_date review_total_positive_word_counts total_number_of_reviews_reviewer_has_given',\n",
       " 'total_number_of_reviews_reviewer_has_given total_number_of_reviews hotel_name additional_number_of_scoring tags hotel_address lat review_total_positive_word_counts lng average_score',\n",
       " 'total_number_of_reviews negative_review review_total_negative_word_counts hotel_name positive_review reviewer_nationality hotel_address days_since_review lng additional_number_of_scoring',\n",
       " 'reviewer_nationality hotel_name hotel_address average_score positive_review tags total_number_of_reviews_reviewer_has_given negative_review additional_number_of_scoring days_since_review']"
      ]
     },
     "execution_count": 249,
     "metadata": {},
     "output_type": "execute_result"
    }
   ],
   "source": [
    "show_topics(v)"
   ]
  },
  {
   "cell_type": "markdown",
   "metadata": {},
   "source": [
    "Após as análises feitas podemos concluir o nosso caso de teste, com os resultados vimos que o SVD randomizado apresenta melhores desempenhos, com isso fica claro que é um melhor método para essas determinads situações."
   ]
  }
 ],
 "metadata": {
  "kernelspec": {
   "display_name": "Python 3",
   "language": "python",
   "name": "python3"
  },
  "language_info": {
   "codemirror_mode": {
    "name": "ipython",
    "version": 3
   },
   "file_extension": ".py",
   "mimetype": "text/x-python",
   "name": "python",
   "nbconvert_exporter": "python",
   "pygments_lexer": "ipython3",
   "version": "3.8.8"
  }
 },
 "nbformat": 4,
 "nbformat_minor": 4
}
